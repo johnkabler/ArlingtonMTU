{
 "metadata": {
  "name": ""
 },
 "nbformat": 3,
 "nbformat_minor": 0,
 "worksheets": [
  {
   "cells": [
    {
     "cell_type": "code",
     "collapsed": false,
     "input": [
      "import pandas as pd"
     ],
     "language": "python",
     "metadata": {},
     "outputs": [
      {
       "output_type": "stream",
       "stream": "stderr",
       "text": [
        "/Users/johnkabler/anaconda/lib/python2.7/site-packages/pytz/__init__.py:35: UserWarning: Module argparse was already imported from /Users/johnkabler/anaconda/python.app/Contents/lib/python2.7/argparse.pyc, but /Users/johnkabler/anaconda/lib/python2.7/site-packages is being added to sys.path\n",
        "  from pkg_resources import resource_stream\n"
       ]
      }
     ],
     "prompt_number": 2
    },
    {
     "cell_type": "code",
     "collapsed": false,
     "input": [
      "%pylab inline"
     ],
     "language": "python",
     "metadata": {},
     "outputs": [
      {
       "output_type": "stream",
       "stream": "stdout",
       "text": [
        "Populating the interactive namespace from numpy and matplotlib\n"
       ]
      }
     ],
     "prompt_number": 26
    },
    {
     "cell_type": "code",
     "collapsed": false,
     "input": [
      "kb_2009 = pd.read_csv('2009_Custis_Rosslyn10.15_12.31_15mins.csv', parse_dates=['Date'], index_col='Date')"
     ],
     "language": "python",
     "metadata": {},
     "outputs": [],
     "prompt_number": 22
    },
    {
     "cell_type": "code",
     "collapsed": false,
     "input": [
      "kb_2010 = pd.read_csv('2010_Custis_Rosslyn01.01_12.31_15mins.csv', parse_dates=['Date'], index_col='Date')"
     ],
     "language": "python",
     "metadata": {},
     "outputs": [],
     "prompt_number": 32
    },
    {
     "cell_type": "code",
     "collapsed": false,
     "input": [
      "kb_2009"
     ],
     "language": "python",
     "metadata": {},
     "outputs": [
      {
       "html": [
        "<pre>\n",
        "&lt;class 'pandas.core.frame.DataFrame'&gt;\n",
        "DatetimeIndex: 7488 entries, 2009-10-15 00:00:00 to 2009-12-31 00:00:00\n",
        "Data columns (total 4 columns):\n",
        "Unnamed: 1             7488  non-null values\n",
        "Custis Rosslyn         7444  non-null values\n",
        "Custis Rosslyn Ped     7444  non-null values\n",
        "Custis Rosslyn Bike    7444  non-null values\n",
        "dtypes: float64(3), object(1)\n",
        "</pre>"
       ],
       "metadata": {},
       "output_type": "pyout",
       "prompt_number": 23,
       "text": [
        "<class 'pandas.core.frame.DataFrame'>\n",
        "DatetimeIndex: 7488 entries, 2009-10-15 00:00:00 to 2009-12-31 00:00:00\n",
        "Data columns (total 4 columns):\n",
        "Unnamed: 1             7488  non-null values\n",
        "Custis Rosslyn         7444  non-null values\n",
        "Custis Rosslyn Ped     7444  non-null values\n",
        "Custis Rosslyn Bike    7444  non-null values\n",
        "dtypes: float64(3), object(1)"
       ]
      }
     ],
     "prompt_number": 23
    },
    {
     "cell_type": "code",
     "collapsed": false,
     "input": [
      "kb_2009 = kb_2009.drop(['Unnamed: 1'], axis=1)"
     ],
     "language": "python",
     "metadata": {},
     "outputs": [],
     "prompt_number": 24
    },
    {
     "cell_type": "code",
     "collapsed": false,
     "input": [
      "kb_2009 = kb_2009.sort_index()"
     ],
     "language": "python",
     "metadata": {},
     "outputs": [],
     "prompt_number": 29
    },
    {
     "cell_type": "code",
     "collapsed": false,
     "input": [
      "kb_2009['Custis Rosslyn Bike']"
     ],
     "language": "python",
     "metadata": {},
     "outputs": [
      {
       "metadata": {},
       "output_type": "pyout",
       "prompt_number": 30,
       "text": [
        "Date\n",
        "2009-01-11    1\n",
        "2009-01-11    0\n",
        "2009-01-11    0\n",
        "2009-01-11    0\n",
        "2009-01-11    0\n",
        "2009-01-11    0\n",
        "2009-01-11    1\n",
        "2009-01-11    0\n",
        "2009-01-11    1\n",
        "2009-01-11    1\n",
        "2009-01-11    0\n",
        "2009-01-11    1\n",
        "2009-01-11    0\n",
        "2009-01-11    0\n",
        "2009-01-11    0\n",
        "...\n",
        "2009-12-31    0\n",
        "2009-12-31    0\n",
        "2009-12-31    0\n",
        "2009-12-31    0\n",
        "2009-12-31    0\n",
        "2009-12-31    0\n",
        "2009-12-31    0\n",
        "2009-12-31    0\n",
        "2009-12-31    0\n",
        "2009-12-31    0\n",
        "2009-12-31    0\n",
        "2009-12-31    0\n",
        "2009-12-31    0\n",
        "2009-12-31    0\n",
        "2009-12-31    1\n",
        "Name: Custis Rosslyn Bike, Length: 7488, dtype: float64"
       ]
      }
     ],
     "prompt_number": 30
    },
    {
     "cell_type": "code",
     "collapsed": false,
     "input": [
      "kb_2009['Custis Rosslyn Bike'].plot()"
     ],
     "language": "python",
     "metadata": {},
     "outputs": [
      {
       "metadata": {},
       "output_type": "pyout",
       "prompt_number": 31,
       "text": [
        "<matplotlib.axes.AxesSubplot at 0x1072c4e10>"
       ]
      },
      {
       "metadata": {},
       "output_type": "display_data",
       "png": "[encoded data removed]",
       "text": [
        "<matplotlib.figure.Figure at 0x1072cb510>"
       ]
      }
     ],
     "prompt_number": 31
    },
    {
     "cell_type": "code",
     "collapsed": false,
     "input": [
      "kb_2010"
     ],
     "language": "python",
     "metadata": {},
     "outputs": [
      {
       "html": [
        "<pre>\n",
        "&lt;class 'pandas.core.frame.DataFrame'&gt;\n",
        "DatetimeIndex: 35040 entries, 2010-01-01 00:00:00 to 2010-12-31 00:00:00\n",
        "Data columns (total 4 columns):\n",
        "Unnamed: 1             35040  non-null values\n",
        "Custis Rosslyn         35036  non-null values\n",
        "Custis Rosslyn Ped     35036  non-null values\n",
        "Custis Rosslyn Bike    35036  non-null values\n",
        "dtypes: float64(3), object(1)\n",
        "</pre>"
       ],
       "metadata": {},
       "output_type": "pyout",
       "prompt_number": 33,
       "text": [
        "<class 'pandas.core.frame.DataFrame'>\n",
        "DatetimeIndex: 35040 entries, 2010-01-01 00:00:00 to 2010-12-31 00:00:00\n",
        "Data columns (total 4 columns):\n",
        "Unnamed: 1             35040  non-null values\n",
        "Custis Rosslyn         35036  non-null values\n",
        "Custis Rosslyn Ped     35036  non-null values\n",
        "Custis Rosslyn Bike    35036  non-null values\n",
        "dtypes: float64(3), object(1)"
       ]
      }
     ],
     "prompt_number": 33
    },
    {
     "cell_type": "code",
     "collapsed": false,
     "input": [
      "kb_2010 = kb_2010.drop('Unnamed: 1', axis=1)"
     ],
     "language": "python",
     "metadata": {},
     "outputs": [],
     "prompt_number": 34
    },
    {
     "cell_type": "code",
     "collapsed": false,
     "input": [
      "kb_2010 = kb_2010.sort_index()"
     ],
     "language": "python",
     "metadata": {},
     "outputs": [],
     "prompt_number": 35
    },
    {
     "cell_type": "code",
     "collapsed": false,
     "input": [
      "kb_2009_10 = pd.concat([kb_2009, kb_2010])"
     ],
     "language": "python",
     "metadata": {},
     "outputs": [],
     "prompt_number": 37
    },
    {
     "cell_type": "markdown",
     "metadata": {},
     "source": [
      "Question:  Why the hell are there so many more bikes in the plot below in 2010 than in 2009?  I suspect that the sensor became much more accurate, but I'm not sure.  "
     ]
    },
    {
     "cell_type": "code",
     "collapsed": false,
     "input": [
      "kb_2009_10['Custis Rosslyn Bike'].plot()"
     ],
     "language": "python",
     "metadata": {},
     "outputs": [
      {
       "metadata": {},
       "output_type": "pyout",
       "prompt_number": 38,
       "text": [
        "<matplotlib.axes.AxesSubplot at 0x1072d9f10>"
       ]
      },
      {
       "metadata": {},
       "output_type": "display_data",
       "png": "[encoded data removed]",
       "text": [
        "<matplotlib.figure.Figure at 0x1072d9390>"
       ]
      }
     ],
     "prompt_number": 38
    },
    {
     "cell_type": "code",
     "collapsed": false,
     "input": [],
     "language": "python",
     "metadata": {},
     "outputs": []
    }
   ],
   "metadata": {}
  }
 ]
}